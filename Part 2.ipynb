{
 "cells": [
  {
   "cell_type": "code",
   "execution_count": 1,
   "metadata": {},
   "outputs": [],
   "source": [
    "import pandas as pd\n",
    "import numpy as np\n",
    "import scipy.stats as sps\n",
    "import matplotlib.pyplot as plt\n",
    "import seaborn as sns\n",
    "import datetime as dt\n",
    "%matplotlib inline\n",
    "start_time = pd.datetime.now()"
   ]
  },
  {
   "cell_type": "code",
   "execution_count": null,
   "metadata": {},
   "outputs": [],
   "source": []
  },
  {
   "cell_type": "code",
   "execution_count": null,
   "metadata": {},
   "outputs": [],
   "source": [
    "%%time\n",
    "alldata = pd.read_csv('transactions_3.20.csv')"
   ]
  },
  {
   "cell_type": "code",
   "execution_count": null,
   "metadata": {},
   "outputs": [],
   "source": [
    "list(alldata.columns)"
   ]
  },
  {
   "cell_type": "code",
   "execution_count": null,
   "metadata": {
    "scrolled": true
   },
   "outputs": [],
   "source": [
    "alldata[['mean','Amount','Fraud','max','sum','maxstate_day90']]"
   ]
  },
  {
   "cell_type": "code",
   "execution_count": null,
   "metadata": {},
   "outputs": [],
   "source": [
    "A=['count','sum']\n",
    "B=['card_','merch_']\n",
    "C=['day1','day3']\n",
    "D=[]\n",
    "for a in A:\n",
    "    for b in B:\n",
    "        for c in C:\n",
    "            D.append(a+b+c)\n",
    "D.append('count_merch_day0')\n",
    "D.append('count')\n",
    "D.append('sum_merch_day0')\n",
    "D.append('sum')"
   ]
  },
  {
   "cell_type": "code",
   "execution_count": null,
   "metadata": {},
   "outputs": [],
   "source": [
    "D"
   ]
  },
  {
   "cell_type": "code",
   "execution_count": null,
   "metadata": {},
   "outputs": [],
   "source": [
    "E=['day7','day14','day30','day90']\n",
    "F=[]\n",
    "for a in A:\n",
    "    for b in B:\n",
    "        for c in E:\n",
    "            F.append(a+b+c)\n",
    "F"
   ]
  },
  {
   "cell_type": "markdown",
   "metadata": {},
   "source": [
    "# velocity change variables"
   ]
  },
  {
   "cell_type": "code",
   "execution_count": null,
   "metadata": {},
   "outputs": [],
   "source": [
    "for i in D:\n",
    "    for j in F:\n",
    "        if j=='countcard_day7' or j=='countmerch_day7' or j=='summerch_day7':\n",
    "            alldata[i+'_over_'+j]=alldata[i]/(alldata[j]/7)\n",
    "        elif j=='countcard_day14' or j=='countmerch_day14' or j=='summerch_day14':\n",
    "            alldata[i+'_over_'+j]=alldata[i]/(alldata[j]/14)\n",
    "        elif j=='countcard_day30' or j=='countmerch_day30' or j=='summerch_day30':\n",
    "            alldata[i+'_over_'+j]=alldata[i]/(alldata[j]/30)\n",
    "        else:\n",
    "            alldata[i+'_over_'+j]=alldata[i]/(alldata[j]/90)"
   ]
  },
  {
   "cell_type": "code",
   "execution_count": null,
   "metadata": {},
   "outputs": [],
   "source": [
    "alldata"
   ]
  },
  {
   "cell_type": "code",
   "execution_count": null,
   "metadata": {},
   "outputs": [],
   "source": [
    "\n",
    "list(alldata.columns)"
   ]
  },
  {
   "cell_type": "code",
   "execution_count": null,
   "metadata": {},
   "outputs": [],
   "source": []
  },
  {
   "cell_type": "code",
   "execution_count": null,
   "metadata": {},
   "outputs": [],
   "source": []
  },
  {
   "cell_type": "code",
   "execution_count": null,
   "metadata": {},
   "outputs": [],
   "source": [
    "alldata.shape"
   ]
  },
  {
   "cell_type": "code",
   "execution_count": null,
   "metadata": {},
   "outputs": [],
   "source": [
    "#list=['Date','Date_previous_mc','Date_previous_card','Date_previous_zip','Date_previous_merch','Date_previous_state']\n",
    "#for i in list:\n",
    "alldata['Date']=pd.to_datetime(alldata['Date'])"
   ]
  },
  {
   "cell_type": "code",
   "execution_count": null,
   "metadata": {},
   "outputs": [],
   "source": [
    "mydata=alldata[alldata['Date']<'2010-11-01']"
   ]
  },
  {
   "cell_type": "code",
   "execution_count": null,
   "metadata": {
    "scrolled": true
   },
   "outputs": [],
   "source": [
    "mydata.drop(['Recnum'],axis=1,inplace=True)\n",
    "mydata['RANDOM']=np.random.ranf(len(mydata))\n",
    "mydata"
   ]
  },
  {
   "cell_type": "code",
   "execution_count": null,
   "metadata": {},
   "outputs": [],
   "source": [
    "backup=mydata\n",
    "#backup\n",
    "#mydata=backup\n",
    "#mydata"
   ]
  },
  {
   "cell_type": "code",
   "execution_count": null,
   "metadata": {},
   "outputs": [],
   "source": [
    "mydata.describe(include='all')"
   ]
  },
  {
   "cell_type": "code",
   "execution_count": null,
   "metadata": {},
   "outputs": [],
   "source": [
    "\n",
    "list(mydata.count())"
   ]
  },
  {
   "cell_type": "code",
   "execution_count": null,
   "metadata": {},
   "outputs": [],
   "source": [
    "mydata.max()"
   ]
  },
  {
   "cell_type": "code",
   "execution_count": null,
   "metadata": {},
   "outputs": [],
   "source": [
    "variables=mydata.drop(['Fraud','Cardnum','Date','Merchnum','Merch description','Merch state',\\\n",
    "                            'Merch zip','Transtype','Amount','order_merch','order_card','order_mc',\\\n",
    "                               'order_zip','order_state',],axis=1).columns"
   ]
  },
  {
   "cell_type": "code",
   "execution_count": null,
   "metadata": {},
   "outputs": [],
   "source": [
    "mydata=mydata.drop(['Cardnum','Date','Merchnum','Merch description','Merch state',\\\n",
    "                           'Merch zip','Transtype','Amount','order_merch','order_card',\\\n",
    "                             'order_mc','order_zip','order_state',],axis=1)"
   ]
  },
  {
   "cell_type": "code",
   "execution_count": null,
   "metadata": {},
   "outputs": [],
   "source": [
    "nvars=len(variables)\n",
    "print(nvars)"
   ]
  },
  {
   "cell_type": "code",
   "execution_count": null,
   "metadata": {},
   "outputs": [],
   "source": [
    "list(mydata.columns)"
   ]
  },
  {
   "cell_type": "code",
   "execution_count": null,
   "metadata": {},
   "outputs": [],
   "source": [
    "goods=mydata[mydata['Fraud']==0]\n",
    "goods.shape"
   ]
  },
  {
   "cell_type": "code",
   "execution_count": null,
   "metadata": {},
   "outputs": [],
   "source": [
    "bads=mydata[mydata['Fraud']==1]\n",
    "bads.shape"
   ]
  },
  {
   "cell_type": "code",
   "execution_count": null,
   "metadata": {},
   "outputs": [],
   "source": [
    "numgoods=len(goods)\n",
    "numbads=len(bads)"
   ]
  },
  {
   "cell_type": "code",
   "execution_count": null,
   "metadata": {},
   "outputs": [],
   "source": [
    "\n",
    "KS=pd.DataFrame(np.zeros((nvars+2,3)))\n",
    "i=0\n",
    "for column in mydata:\n",
    "    print(i,column)\n",
    "    KS.iloc[i,0]=column\n",
    "    i=i+1\n",
    "KS"
   ]
  },
  {
   "cell_type": "code",
   "execution_count": null,
   "metadata": {
    "scrolled": true
   },
   "outputs": [],
   "source": [
    "KS.columns = ['field','ks','FDR']\n",
    "KS"
   ]
  },
  {
   "cell_type": "code",
   "execution_count": null,
   "metadata": {},
   "outputs": [],
   "source": [
    "KS['field'][118:199]"
   ]
  },
  {
   "cell_type": "code",
   "execution_count": null,
   "metadata": {},
   "outputs": [],
   "source": [
    "%%time\n",
    "n=0\n",
    "for i in mydata.columns:\n",
    "    x = goods[i]\n",
    "    y = bads[i] \n",
    "    KS['ks'][n] = sps.ks_2samp(x, y)[0]\n",
    "    n+=1"
   ]
  },
  {
   "cell_type": "code",
   "execution_count": null,
   "metadata": {
    "scrolled": true
   },
   "outputs": [],
   "source": [
    "KS"
   ]
  },
  {
   "cell_type": "code",
   "execution_count": null,
   "metadata": {},
   "outputs": [],
   "source": [
    "KS.sort_values(by=['ks'],ascending=False,inplace=True)\n",
    "KS"
   ]
  },
  {
   "cell_type": "code",
   "execution_count": null,
   "metadata": {},
   "outputs": [],
   "source": [
    "topRows= int(round(len(mydata)*0.03))\n",
    "j=0\n",
    "for column in mydata:\n",
    "    temp1=mydata.sort_values(column,ascending=False).head(topRows)\n",
    "    temp2=mydata.sort_values(column,ascending=True).head(topRows)\n",
    "    needed1=temp1.loc[:,'Fraud']\n",
    "    needed2=temp2.loc[:,'Fraud']\n",
    "    FDR1=sum(needed1)/numbads\n",
    "    FDR2=sum(needed2)/numbads\n",
    "    FDRate=np.maximum(FDR1,FDR2)\n",
    "    #print(j,column,FDR1,FDR2,FDRate)\n",
    "    KS.loc[j,'FDR']=FDRate\n",
    "    j=j+1"
   ]
  },
  {
   "cell_type": "code",
   "execution_count": null,
   "metadata": {},
   "outputs": [],
   "source": [
    "KS['rank_ks']=KS['ks'].rank(ascending=True)\n",
    "KS['rank_FDR']=KS['FDR'].rank(ascending=True)\n",
    "KS.sort_values(by=['ks'],ascending=False,inplace=True)\n",
    "KS.to_csv('KS.csv')\n",
    "KS.sort_values(by=['FDR'],ascending=False,inplace=True)\n",
    "KS.to_csv('FDR.csv')\n",
    "KS.head(20)"
   ]
  },
  {
   "cell_type": "code",
   "execution_count": null,
   "metadata": {},
   "outputs": [],
   "source": [
    "KS['average_rank']=(KS['rank_ks']+KS['rank_FDR'])/2\n",
    "KS.sort_values(by=['average_rank'],ascending=False, inplace=True)\n",
    "KS.reset_index(drop=True)"
   ]
  },
  {
   "cell_type": "code",
   "execution_count": null,
   "metadata": {},
   "outputs": [],
   "source": [
    "num_keep=round(nvars/2)"
   ]
  },
  {
   "cell_type": "code",
   "execution_count": null,
   "metadata": {},
   "outputs": [],
   "source": [
    "cols_keep=KS['field'][1:num_keep]\n",
    "cols_keep=list(cols_keep)"
   ]
  },
  {
   "cell_type": "code",
   "execution_count": null,
   "metadata": {},
   "outputs": [],
   "source": [
    "cols_keep.insert(0,'Fraud')\n",
    "cols_keep.insert(0,'Recnums')\n",
    "vars_keep = alldata.filter(cols_keep,axis=1)\n",
    "vars_keep.shape\n"
   ]
  },
  {
   "cell_type": "code",
   "execution_count": null,
   "metadata": {},
   "outputs": [],
   "source": [
    "stop_time=pd.datetime.now()\n",
    "print(stop_time-start_time)"
   ]
  },
  {
   "cell_type": "code",
   "execution_count": null,
   "metadata": {},
   "outputs": [],
   "source": [
    "vars_keep.to_csv('C:/Users/clair/Desktop/USC/DSO562 Fraud/project2/data100.csv')"
   ]
  },
  {
   "cell_type": "code",
   "execution_count": null,
   "metadata": {},
   "outputs": [],
   "source": []
  },
  {
   "cell_type": "code",
   "execution_count": null,
   "metadata": {},
   "outputs": [],
   "source": []
  }
 ],
 "metadata": {
  "kernelspec": {
   "display_name": "Python 3",
   "language": "python",
   "name": "python3"
  },
  "language_info": {
   "codemirror_mode": {
    "name": "ipython",
    "version": 3
   },
   "file_extension": ".py",
   "mimetype": "text/x-python",
   "name": "python",
   "nbconvert_exporter": "python",
   "pygments_lexer": "ipython3",
   "version": "3.6.5"
  }
 },
 "nbformat": 4,
 "nbformat_minor": 2
}
